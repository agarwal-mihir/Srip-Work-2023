{
 "cells": [
  {
   "cell_type": "markdown",
   "id": "a0ee71c7",
   "metadata": {},
   "source": [
    "# Import Libraries"
   ]
  },
  {
   "cell_type": "code",
   "execution_count": 1,
   "id": "fb24e647",
   "metadata": {},
   "outputs": [],
   "source": [
    "import haversine as hs\n",
    "import networkx as nx\n",
    "import matplotlib.pyplot as plt\n",
    "import pandas as pd\n",
    "import numpy as np\n",
    "import math\n",
    "import torch\n",
    "from torch_geometric.data import Data, Dataset\n",
    "from sklearn.preprocessing import LabelEncoder\n",
    "import torch\n",
    "import torch.nn as nn\n",
    "import torch.nn.functional as F\n",
    "from torch_geometric.nn import GCNConv\n",
    "from torch_geometric.nn.dense import DenseGCNConv\n",
    "from utils import draw_graph\n",
    "\n",
    "df = pd.read_csv('data/final_data_mar.csv.gz')\n",
    "df['time'] = pd.to_datetime(df['time'])"
   ]
  },
  {
   "cell_type": "markdown",
   "id": "74d62afc",
   "metadata": {},
   "source": [
    "# Select a station and 1 week of data"
   ]
  },
  {
   "cell_type": "code",
   "execution_count": 2,
   "id": "67f632e4",
   "metadata": {
    "scrolled": true
   },
   "outputs": [
    {
     "data": {
      "text/html": [
       "<div>\n",
       "<style scoped>\n",
       "    .dataframe tbody tr th:only-of-type {\n",
       "        vertical-align: middle;\n",
       "    }\n",
       "\n",
       "    .dataframe tbody tr th {\n",
       "        vertical-align: top;\n",
       "    }\n",
       "\n",
       "    .dataframe thead th {\n",
       "        text-align: right;\n",
       "    }\n",
       "</style>\n",
       "<table border=\"1\" class=\"dataframe\">\n",
       "  <thead>\n",
       "    <tr style=\"text-align: right;\">\n",
       "      <th></th>\n",
       "      <th>time</th>\n",
       "      <th>station_id</th>\n",
       "      <th>longitude</th>\n",
       "      <th>latitude</th>\n",
       "      <th>PM25_Concentration</th>\n",
       "      <th>weather</th>\n",
       "      <th>temperature</th>\n",
       "      <th>humidity</th>\n",
       "      <th>wind_speed</th>\n",
       "      <th>wind_direction</th>\n",
       "      <th>filled</th>\n",
       "    </tr>\n",
       "  </thead>\n",
       "  <tbody>\n",
       "    <tr>\n",
       "      <th>5713</th>\n",
       "      <td>0</td>\n",
       "      <td>1002</td>\n",
       "      <td>116.20531</td>\n",
       "      <td>40.00395</td>\n",
       "      <td>8.0</td>\n",
       "      <td>0.0</td>\n",
       "      <td>-7.0</td>\n",
       "      <td>69.0</td>\n",
       "      <td>3.0</td>\n",
       "      <td>3.0</td>\n",
       "      <td>False</td>\n",
       "    </tr>\n",
       "    <tr>\n",
       "      <th>5714</th>\n",
       "      <td>1</td>\n",
       "      <td>1002</td>\n",
       "      <td>116.20531</td>\n",
       "      <td>40.00395</td>\n",
       "      <td>12.0</td>\n",
       "      <td>0.0</td>\n",
       "      <td>-7.0</td>\n",
       "      <td>74.0</td>\n",
       "      <td>3.0</td>\n",
       "      <td>2.0</td>\n",
       "      <td>False</td>\n",
       "    </tr>\n",
       "    <tr>\n",
       "      <th>5715</th>\n",
       "      <td>2</td>\n",
       "      <td>1002</td>\n",
       "      <td>116.20531</td>\n",
       "      <td>40.00395</td>\n",
       "      <td>13.0</td>\n",
       "      <td>0.0</td>\n",
       "      <td>-8.0</td>\n",
       "      <td>74.0</td>\n",
       "      <td>3.0</td>\n",
       "      <td>2.0</td>\n",
       "      <td>False</td>\n",
       "    </tr>\n",
       "    <tr>\n",
       "      <th>5716</th>\n",
       "      <td>3</td>\n",
       "      <td>1002</td>\n",
       "      <td>116.20531</td>\n",
       "      <td>40.00395</td>\n",
       "      <td>11.0</td>\n",
       "      <td>0.0</td>\n",
       "      <td>-6.0</td>\n",
       "      <td>68.0</td>\n",
       "      <td>3.0</td>\n",
       "      <td>14.0</td>\n",
       "      <td>False</td>\n",
       "    </tr>\n",
       "    <tr>\n",
       "      <th>5717</th>\n",
       "      <td>4</td>\n",
       "      <td>1002</td>\n",
       "      <td>116.20531</td>\n",
       "      <td>40.00395</td>\n",
       "      <td>7.0</td>\n",
       "      <td>0.0</td>\n",
       "      <td>-6.0</td>\n",
       "      <td>69.0</td>\n",
       "      <td>3.0</td>\n",
       "      <td>1.0</td>\n",
       "      <td>False</td>\n",
       "    </tr>\n",
       "  </tbody>\n",
       "</table>\n",
       "</div>"
      ],
      "text/plain": [
       "      time  station_id  longitude  latitude  PM25_Concentration  weather  \\\n",
       "5713     0        1002  116.20531  40.00395                 8.0      0.0   \n",
       "5714     1        1002  116.20531  40.00395                12.0      0.0   \n",
       "5715     2        1002  116.20531  40.00395                13.0      0.0   \n",
       "5716     3        1002  116.20531  40.00395                11.0      0.0   \n",
       "5717     4        1002  116.20531  40.00395                 7.0      0.0   \n",
       "\n",
       "      temperature  humidity  wind_speed  wind_direction  filled  \n",
       "5713         -7.0      69.0         3.0             3.0   False  \n",
       "5714         -7.0      74.0         3.0             2.0   False  \n",
       "5715         -8.0      74.0         3.0             2.0   False  \n",
       "5716         -6.0      68.0         3.0            14.0   False  \n",
       "5717         -6.0      69.0         3.0             1.0   False  "
      ]
     },
     "execution_count": 2,
     "metadata": {},
     "output_type": "execute_result"
    }
   ],
   "source": [
    "df = df[df['station_id'] == 1002]\n",
    "df = df[(df['time'] > '2014-12-25 00:00:00') & (df['time'] < '2014-12-31 00:00:00')]\n",
    "\n",
    "le = LabelEncoder()\n",
    "df['time'] = le.fit_transform(df['time'])\n",
    "\n",
    "df.head()"
   ]
  },
  {
   "cell_type": "markdown",
   "id": "d3d4fb87",
   "metadata": {},
   "source": [
    "# Function for creating graph\n",
    "Create a fully connected graph with edge weights as 1/sqrt(time difference)"
   ]
  },
  {
   "cell_type": "code",
   "execution_count": 3,
   "id": "d5836583",
   "metadata": {},
   "outputs": [],
   "source": [
    "def time_graph(df):\n",
    "    G = nx.Graph()\n",
    "    for i in range(len(df)):\n",
    "        time = df.iloc[i]['time']\n",
    "        pm = df.iloc[i]['PM25_Concentration']\n",
    "        weather = df.iloc[i]['weather']\n",
    "        temperature = df.iloc[i]['temperature']\n",
    "        humidity = df.iloc[i]['humidity']\n",
    "        \n",
    "        G.add_node(i, time = time, pm=pm, weather = weather, temperature = temperature, humidity = humidity)\n",
    "        \n",
    "        for j in range(i + 1, len(df)):\n",
    "            time2 = df.iloc[j]['time']\n",
    "            G.add_edge(i, j, weight = 1/(time2-time)**2)\n",
    "    \n",
    "    return G"
   ]
  },
  {
   "cell_type": "markdown",
   "id": "c53c13df",
   "metadata": {},
   "source": [
    "# Create Pytorch-Geometric Data object"
   ]
  },
  {
   "cell_type": "code",
   "execution_count": 4,
   "id": "c1231c30",
   "metadata": {},
   "outputs": [],
   "source": [
    "def create_dataset(G):\n",
    "    node_features = [(G.nodes[node]['weather'], G.nodes[node]['temperature'], G.nodes[node]['humidity']) for node in G.nodes]\n",
    "    \n",
    "    edge_weights = []\n",
    "    undirected_edges = []\n",
    "    for edge in G.edges:\n",
    "        undirected_edges.append(edge)\n",
    "        undirected_edges.append((edge[1], edge[0]))  # Add the reverse edge\n",
    "        edge_weights.append(G.get_edge_data(edge[0], edge[1]))\n",
    "        edge_weights.append(G.get_edge_data(edge[1], edge[0]))\n",
    "        \n",
    "    edge_index = torch.tensor(list(G.edges)).t().contiguous()\n",
    "    y = torch.tensor([G.nodes[node]['pm'] for node in G.nodes], dtype=torch.float).view(-1, 1)\n",
    "    train_mask = torch.zeros(y.size(0), dtype=torch.bool)\n",
    "    test_mask = torch.zeros(y.size(0), dtype=torch.bool)\n",
    "       \n",
    "    n_train = int(0.8*len(G.nodes))\n",
    "    train_mask[:n_train] = True\n",
    "    test_mask[n_train:] = True\n",
    "    \n",
    "    data = Data(x=torch.tensor(node_features, dtype=torch.float), edge_index=edge_index, edge_weight = edge_weights, y=y,train_mask=train_mask, test_mask=test_mask)\n",
    "    return data, n_train"
   ]
  },
  {
   "cell_type": "markdown",
   "id": "260adfe4",
   "metadata": {},
   "source": [
    "# GCN Model"
   ]
  },
  {
   "cell_type": "code",
   "execution_count": 5,
   "id": "683371cb",
   "metadata": {},
   "outputs": [],
   "source": [
    "class RegressionModel(nn.Module):\n",
    "    def __init__(self, input_dim):\n",
    "        super(RegressionModel, self).__init__()\n",
    "        self.conv1 = GCNConv(input_dim, 32)\n",
    "        self.conv2 = GCNConv(32, 16)\n",
    "        self.linear1 = nn.Linear(16, 16)\n",
    "        self.linear2 = nn.Linear(16, 1)\n",
    "\n",
    "    def forward(self, x, edge_index):\n",
    "        x = self.conv1(x, edge_index)\n",
    "        x = F.relu(x)\n",
    "        x = self.conv2(x, edge_index)\n",
    "        x = self.linear1(x)\n",
    "        x = F.relu(x)\n",
    "        x = self.linear2(x)\n",
    "        return x"
   ]
  },
  {
   "cell_type": "markdown",
   "id": "95b38d59",
   "metadata": {},
   "source": [
    "Create Graph and convert it into a pytorch-geometric data object"
   ]
  },
  {
   "cell_type": "code",
   "execution_count": 6,
   "id": "2211d8a0",
   "metadata": {},
   "outputs": [],
   "source": [
    "G = time_graph(df)\n",
    "data, n_train = create_dataset(G)"
   ]
  },
  {
   "cell_type": "markdown",
   "id": "33c79cb3",
   "metadata": {},
   "source": [
    "# Train Model"
   ]
  },
  {
   "cell_type": "code",
   "execution_count": 7,
   "id": "5c65fa10",
   "metadata": {},
   "outputs": [
    {
     "name": "stderr",
     "output_type": "stream",
     "text": [
      "100%|██████████████████████████████████████████████████████████████████████████████| 2500/2500 [00:25<00:00, 97.57it/s]\n"
     ]
    },
    {
     "name": "stdout",
     "output_type": "stream",
     "text": [
      "Train RMSE 37.029713\n",
      "Test RMSE 16.475239\n"
     ]
    },
    {
     "data": {
      "image/png": "[encoded data removed]",
      "text/plain": [
       "<Figure size 432x288 with 1 Axes>"
      ]
     },
     "metadata": {
      "needs_background": "light"
     },
     "output_type": "display_data"
    }
   ],
   "source": [
    "from tqdm import tqdm\n",
    "\n",
    "device = torch.device('cuda' if torch.cuda.is_available() else 'cpu')\n",
    "model = RegressionModel(input_dim=3).to(device)\n",
    "optimizer = torch.optim.Adam(model.parameters(), lr=0.001)\n",
    "criterion = nn.MSELoss()\n",
    "\n",
    "train_rmse_list = []\n",
    "test_rmse_list = []\n",
    "\n",
    "for epoch in tqdm(range(2500)):\n",
    "    optimizer.zero_grad()\n",
    "    out = model(data.x.to(device), data.edge_index.to(device))\n",
    "    loss = criterion(out[data.train_mask].squeeze(), data.y[data.train_mask].squeeze())\n",
    "    loss.backward()\n",
    "    optimizer.step()\n",
    "    if(epoch%20==0):\n",
    "        model.eval()\n",
    "        with torch.no_grad():\n",
    "            out = model(data.x.to(device), data.edge_index.to(device))  # Predicted PM values\n",
    "            train_rmse = torch.sqrt(torch.mean((out[data.train_mask].squeeze() - data.y[data.train_mask].squeeze())**2))\n",
    "            test_rmse = torch.sqrt(torch.mean((out[data.test_mask].squeeze() - data.y[data.test_mask].squeeze())**2))\n",
    "            train_rmse_list.append(train_rmse.item())\n",
    "            test_rmse_list.append(test_rmse.item())\n",
    "        model.train()\n",
    "\n",
    "model.eval()\n",
    "with torch.no_grad():\n",
    "    out = model(data.x.to(device), data.edge_index.to(device))  # Predicted PM values\n",
    "    train_rmse = torch.sqrt(torch.mean((out[data.train_mask].squeeze() - data.y[data.train_mask].squeeze())**2))\n",
    "    test_rmse = torch.sqrt(torch.mean((out[data.test_mask].squeeze() - data.y[data.test_mask].squeeze())**2))\n",
    "    print(\"Train RMSE\", train_rmse.numpy())\n",
    "    print(\"Test RMSE\", test_rmse.numpy())        \n",
    "\n",
    "plt.plot(range(0, 20*len(train_rmse_list), 20), train_rmse_list, label='Train Loss')\n",
    "plt.plot(range(0, 20*len(test_rmse_list), 20), test_rmse_list, label='Test Loss')\n",
    "plt.xlabel('RMSE')\n",
    "plt.ylabel('Epoch')\n",
    "plt.legend()\n",
    "plt.show()"
   ]
  },
  {
   "cell_type": "markdown",
   "id": "61459f29",
   "metadata": {},
   "source": [
    "# Plot Predictions vs Actual PM2.5 Values"
   ]
  },
  {
   "cell_type": "code",
   "execution_count": 8,
   "id": "abfac8ff",
   "metadata": {},
   "outputs": [
    {
     "data": {
      "image/png": "[encoded data removed]",
      "text/plain": [
       "<Figure size 432x288 with 1 Axes>"
      ]
     },
     "metadata": {
      "needs_background": "light"
     },
     "output_type": "display_data"
    }
   ],
   "source": [
    "plt.plot(range(len(data.y)), data.y, label = 'Actual Values')\n",
    "plt.plot(range(n_train), out[data.train_mask].squeeze(), label = 'Train Points')\n",
    "plt.plot(range(n_train, len(data.y)), out[data.test_mask].squeeze(), label = 'Predictions')\n",
    "plt.ylabel('PM2.5')\n",
    "plt.xlabel('Timestamps')\n",
    "plt.legend()\n",
    "plt.title('Predicted vs Actual PM2.5 over all points')\n",
    "plt.show()"
   ]
  },
  {
   "cell_type": "code",
   "execution_count": 9,
   "id": "3cd2882f",
   "metadata": {},
   "outputs": [
    {
     "data": {
      "image/png": "[encoded data removed]",
      "text/plain": [
       "<Figure size 432x288 with 1 Axes>"
      ]
     },
     "metadata": {
      "needs_background": "light"
     },
     "output_type": "display_data"
    }
   ],
   "source": [
    "plt.plot(data.y[data.test_mask].squeeze().numpy(), label = 'Actual Values', alpha = 0.7)\n",
    "plt.plot(out[data.test_mask].squeeze().numpy(), label = 'Predictions', alpha = 0.7)\n",
    "plt.ylabel('PM2.5')\n",
    "plt.xlabel('Timestamps')\n",
    "plt.legend()\n",
    "plt.title('Predicted vs Actual PM2.5 values at test points')\n",
    "plt.show()"
   ]
  }
 ],
 "metadata": {
  "kernelspec": {
   "display_name": "Python 3 (ipykernel)",
   "language": "python",
   "name": "python3"
  },
  "language_info": {
   "codemirror_mode": {
    "name": "ipython",
    "version": 3
   },
   "file_extension": ".py",
   "mimetype": "text/x-python",
   "name": "python",
   "nbconvert_exporter": "python",
   "pygments_lexer": "ipython3",
   "version": "3.9.7"
  }
 },
 "nbformat": 4,
 "nbformat_minor": 5
}
