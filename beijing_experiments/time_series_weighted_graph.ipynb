{
 "cells": [
  {
   "cell_type": "code",
   "execution_count": 1,
   "id": "a0ac5e9c",
   "metadata": {},
   "outputs": [],
   "source": [
    "import haversine as hs\n",
    "import networkx as nx\n",
    "import matplotlib.pyplot as plt\n",
    "import pandas as pd\n",
    "import numpy as np\n",
    "import math\n",
    "import torch\n",
    "from torch_geometric.data import Data, Dataset\n",
    "from sklearn.preprocessing import LabelEncoder\n",
    "import torch\n",
    "import torch.nn as nn\n",
    "import torch.nn.functional as F\n",
    "from torch_geometric.nn import GCNConv\n",
    "from torch_geometric.nn.dense import DenseGCNConv\n",
    "from utils import draw_graph\n",
    "\n",
    "df = pd.read_csv('data/final_data_mar.csv.gz')\n",
    "df['time'] = pd.to_datetime(df['time'])"
   ]
  },
  {
   "cell_type": "code",
   "execution_count": 2,
   "id": "afbdb765",
   "metadata": {},
   "outputs": [],
   "source": [
    "df = df[df['station_id'] == 1002]"
   ]
  },
  {
   "cell_type": "code",
   "execution_count": 3,
   "id": "67f632e4",
   "metadata": {
    "scrolled": false
   },
   "outputs": [
    {
     "data": {
      "text/html": [
       "<div>\n",
       "<style scoped>\n",
       "    .dataframe tbody tr th:only-of-type {\n",
       "        vertical-align: middle;\n",
       "    }\n",
       "\n",
       "    .dataframe tbody tr th {\n",
       "        vertical-align: top;\n",
       "    }\n",
       "\n",
       "    .dataframe thead th {\n",
       "        text-align: right;\n",
       "    }\n",
       "</style>\n",
       "<table border=\"1\" class=\"dataframe\">\n",
       "  <thead>\n",
       "    <tr style=\"text-align: right;\">\n",
       "      <th></th>\n",
       "      <th>time</th>\n",
       "      <th>station_id</th>\n",
       "      <th>longitude</th>\n",
       "      <th>latitude</th>\n",
       "      <th>PM25_Concentration</th>\n",
       "      <th>weather</th>\n",
       "      <th>temperature</th>\n",
       "      <th>humidity</th>\n",
       "      <th>wind_speed</th>\n",
       "      <th>wind_direction</th>\n",
       "      <th>filled</th>\n",
       "    </tr>\n",
       "  </thead>\n",
       "  <tbody>\n",
       "    <tr>\n",
       "      <th>2209</th>\n",
       "      <td>0</td>\n",
       "      <td>1002</td>\n",
       "      <td>116.20531</td>\n",
       "      <td>40.00395</td>\n",
       "      <td>200.0</td>\n",
       "      <td>0.0</td>\n",
       "      <td>26.0</td>\n",
       "      <td>83.0</td>\n",
       "      <td>8.140524</td>\n",
       "      <td>2.0</td>\n",
       "      <td>False</td>\n",
       "    </tr>\n",
       "    <tr>\n",
       "      <th>2210</th>\n",
       "      <td>1</td>\n",
       "      <td>1002</td>\n",
       "      <td>116.20531</td>\n",
       "      <td>40.00395</td>\n",
       "      <td>212.0</td>\n",
       "      <td>0.0</td>\n",
       "      <td>26.0</td>\n",
       "      <td>86.0</td>\n",
       "      <td>8.165026</td>\n",
       "      <td>2.0</td>\n",
       "      <td>False</td>\n",
       "    </tr>\n",
       "    <tr>\n",
       "      <th>2211</th>\n",
       "      <td>2</td>\n",
       "      <td>1002</td>\n",
       "      <td>116.20531</td>\n",
       "      <td>40.00395</td>\n",
       "      <td>207.0</td>\n",
       "      <td>0.0</td>\n",
       "      <td>24.0</td>\n",
       "      <td>94.0</td>\n",
       "      <td>8.189529</td>\n",
       "      <td>23.0</td>\n",
       "      <td>False</td>\n",
       "    </tr>\n",
       "    <tr>\n",
       "      <th>2212</th>\n",
       "      <td>3</td>\n",
       "      <td>1002</td>\n",
       "      <td>116.20531</td>\n",
       "      <td>40.00395</td>\n",
       "      <td>193.0</td>\n",
       "      <td>0.0</td>\n",
       "      <td>24.0</td>\n",
       "      <td>95.0</td>\n",
       "      <td>8.214031</td>\n",
       "      <td>23.0</td>\n",
       "      <td>False</td>\n",
       "    </tr>\n",
       "    <tr>\n",
       "      <th>2213</th>\n",
       "      <td>4</td>\n",
       "      <td>1002</td>\n",
       "      <td>116.20531</td>\n",
       "      <td>40.00395</td>\n",
       "      <td>184.0</td>\n",
       "      <td>0.0</td>\n",
       "      <td>24.0</td>\n",
       "      <td>99.0</td>\n",
       "      <td>8.238534</td>\n",
       "      <td>3.0</td>\n",
       "      <td>False</td>\n",
       "    </tr>\n",
       "    <tr>\n",
       "      <th>...</th>\n",
       "      <td>...</td>\n",
       "      <td>...</td>\n",
       "      <td>...</td>\n",
       "      <td>...</td>\n",
       "      <td>...</td>\n",
       "      <td>...</td>\n",
       "      <td>...</td>\n",
       "      <td>...</td>\n",
       "      <td>...</td>\n",
       "      <td>...</td>\n",
       "      <td>...</td>\n",
       "    </tr>\n",
       "    <tr>\n",
       "      <th>2347</th>\n",
       "      <td>138</td>\n",
       "      <td>1002</td>\n",
       "      <td>116.20531</td>\n",
       "      <td>40.00395</td>\n",
       "      <td>16.0</td>\n",
       "      <td>1.0</td>\n",
       "      <td>28.0</td>\n",
       "      <td>48.0</td>\n",
       "      <td>11.521885</td>\n",
       "      <td>23.0</td>\n",
       "      <td>False</td>\n",
       "    </tr>\n",
       "    <tr>\n",
       "      <th>2348</th>\n",
       "      <td>139</td>\n",
       "      <td>1002</td>\n",
       "      <td>116.20531</td>\n",
       "      <td>40.00395</td>\n",
       "      <td>11.0</td>\n",
       "      <td>1.0</td>\n",
       "      <td>25.0</td>\n",
       "      <td>66.0</td>\n",
       "      <td>11.546387</td>\n",
       "      <td>23.0</td>\n",
       "      <td>False</td>\n",
       "    </tr>\n",
       "    <tr>\n",
       "      <th>2349</th>\n",
       "      <td>140</td>\n",
       "      <td>1002</td>\n",
       "      <td>116.20531</td>\n",
       "      <td>40.00395</td>\n",
       "      <td>15.0</td>\n",
       "      <td>1.0</td>\n",
       "      <td>23.0</td>\n",
       "      <td>78.0</td>\n",
       "      <td>11.570890</td>\n",
       "      <td>4.0</td>\n",
       "      <td>False</td>\n",
       "    </tr>\n",
       "    <tr>\n",
       "      <th>2350</th>\n",
       "      <td>141</td>\n",
       "      <td>1002</td>\n",
       "      <td>116.20531</td>\n",
       "      <td>40.00395</td>\n",
       "      <td>19.0</td>\n",
       "      <td>1.0</td>\n",
       "      <td>23.0</td>\n",
       "      <td>82.0</td>\n",
       "      <td>11.595393</td>\n",
       "      <td>4.0</td>\n",
       "      <td>False</td>\n",
       "    </tr>\n",
       "    <tr>\n",
       "      <th>2351</th>\n",
       "      <td>142</td>\n",
       "      <td>1002</td>\n",
       "      <td>116.20531</td>\n",
       "      <td>40.00395</td>\n",
       "      <td>20.0</td>\n",
       "      <td>1.0</td>\n",
       "      <td>22.0</td>\n",
       "      <td>88.0</td>\n",
       "      <td>11.619895</td>\n",
       "      <td>4.0</td>\n",
       "      <td>False</td>\n",
       "    </tr>\n",
       "  </tbody>\n",
       "</table>\n",
       "<p>143 rows × 11 columns</p>\n",
       "</div>"
      ],
      "text/plain": [
       "      time  station_id  longitude  latitude  PM25_Concentration  weather  \\\n",
       "2209     0        1002  116.20531  40.00395               200.0      0.0   \n",
       "2210     1        1002  116.20531  40.00395               212.0      0.0   \n",
       "2211     2        1002  116.20531  40.00395               207.0      0.0   \n",
       "2212     3        1002  116.20531  40.00395               193.0      0.0   \n",
       "2213     4        1002  116.20531  40.00395               184.0      0.0   \n",
       "...    ...         ...        ...       ...                 ...      ...   \n",
       "2347   138        1002  116.20531  40.00395                16.0      1.0   \n",
       "2348   139        1002  116.20531  40.00395                11.0      1.0   \n",
       "2349   140        1002  116.20531  40.00395                15.0      1.0   \n",
       "2350   141        1002  116.20531  40.00395                19.0      1.0   \n",
       "2351   142        1002  116.20531  40.00395                20.0      1.0   \n",
       "\n",
       "      temperature  humidity  wind_speed  wind_direction  filled  \n",
       "2209         26.0      83.0    8.140524             2.0   False  \n",
       "2210         26.0      86.0    8.165026             2.0   False  \n",
       "2211         24.0      94.0    8.189529            23.0   False  \n",
       "2212         24.0      95.0    8.214031            23.0   False  \n",
       "2213         24.0      99.0    8.238534             3.0   False  \n",
       "...           ...       ...         ...             ...     ...  \n",
       "2347         28.0      48.0   11.521885            23.0   False  \n",
       "2348         25.0      66.0   11.546387            23.0   False  \n",
       "2349         23.0      78.0   11.570890             4.0   False  \n",
       "2350         23.0      82.0   11.595393             4.0   False  \n",
       "2351         22.0      88.0   11.619895             4.0   False  \n",
       "\n",
       "[143 rows x 11 columns]"
      ]
     },
     "execution_count": 3,
     "metadata": {},
     "output_type": "execute_result"
    }
   ],
   "source": [
    "df = df[(df['time'] > '2014-08-01 00:00:00') & (df['time'] < '2014-08-07 00:00:00')]\n",
    "le = LabelEncoder()\n",
    "df['time'] = le.fit_transform(df['time'])\n",
    "df"
   ]
  },
  {
   "cell_type": "markdown",
   "id": "a8d84d96",
   "metadata": {},
   "source": [
    "# DenseGCNConv\n"
   ]
  },
  {
   "cell_type": "code",
   "execution_count": 4,
   "id": "cd5e3fdf",
   "metadata": {},
   "outputs": [],
   "source": [
    "def time_graph_Dense(G):\n",
    "    G = nx.DiGraph()\n",
    "    for i in range(len(df)):\n",
    "        time = df.iloc[i]['time']\n",
    "        pm = df.iloc[i]['PM25_Concentration']\n",
    "        weather = df.iloc[i]['weather']\n",
    "        temperature = df.iloc[i]['temperature']\n",
    "        humidity = df.iloc[i]['humidity']\n",
    "        \n",
    "        G.add_node(i, time = time, pm=pm, weather = weather, temperature = temperature, humidity = humidity)\n",
    "        \n",
    "        for j in range(i + 1, len(df)):\n",
    "            time2 = df.iloc[j]['time']\n",
    "            G.add_edge(i, j, weight = 1/(time2-time)**0.5)\n",
    "    \n",
    "    return G"
   ]
  },
  {
   "cell_type": "code",
   "execution_count": 5,
   "id": "450320fa",
   "metadata": {},
   "outputs": [],
   "source": [
    "def create_dataset_Dense(G):\n",
    "    node_features = [(G.nodes[node]['weather'], G.nodes[node]['temperature'], G.nodes[node]['humidity']) for node in G.nodes]\n",
    "    \n",
    "    edge_weights = []\n",
    "    for edge in G.edges:\n",
    "        edge_weights.append(G.get_edge_data(edge[0], edge[1]))\n",
    "    \n",
    "    edge_index = torch.tensor(list(G.edges)).t().contiguous()\n",
    "    y = torch.tensor([G.nodes[node]['pm'] for node in G.nodes], dtype=torch.float).view(-1, 1)\n",
    "    train_mask = torch.zeros(y.size(0), dtype=torch.bool)\n",
    "    test_mask = torch.zeros(y.size(0), dtype=torch.bool)\n",
    "    \n",
    "    n_train = int(0.85*len(G.nodes))   \n",
    "    train_mask[:n_train] = True\n",
    "    test_mask[n_train:] = True\n",
    "    \n",
    "    adj_matrix = nx.adjacency_matrix(G).todense()\n",
    "\n",
    "    test_adj = []\n",
    "    for i in range(len(adj_matrix[n_train:])):\n",
    "        test_adj.append(adj_matrix[i][n_train:])\n",
    "        \n",
    "    train_adj = []\n",
    "    for i in range(len(adj_matrix[:n_train])):\n",
    "        train_adj.append(adj_matrix[i][:n_train])  \n",
    "        \n",
    "    adj_matrix = torch.tensor(np.stack(adj_matrix), dtype = torch.float)\n",
    "    train_adj = torch.tensor(np.stack(train_adj), dtype = torch.float)\n",
    "    test_adj = torch.tensor(np.stack(test_adj), dtype = torch.float)\n",
    "\n",
    "    data = Data(x=torch.tensor(node_features, dtype=torch.float), edge_index=edge_index, edge_weight = edge_weights, y=y,train_mask=train_mask, test_mask=test_mask)\n",
    "    return data, adj_matrix, train_adj, test_adj"
   ]
  },
  {
   "cell_type": "code",
   "execution_count": 6,
   "id": "f938af49",
   "metadata": {},
   "outputs": [],
   "source": [
    "class RegressionModel_Dense(nn.Module):\n",
    "    def __init__(self, input_dim):\n",
    "        super(RegressionModel_Dense, self).__init__()\n",
    "        self.conv1 = DenseGCNConv(input_dim, 16)\n",
    "        self.conv2 = DenseGCNConv(16, 8)\n",
    "        self.linear1 = nn.Linear(8, 8)\n",
    "        self.linear2 = nn.Linear(8, 1)\n",
    "\n",
    "    def forward(self, x, adj):\n",
    "        x = self.conv1(x, adj)\n",
    "        x = F.relu(x)\n",
    "        x = self.conv2(x, adj)\n",
    "        x = self.linear1(x)\n",
    "        x = F.relu(x)\n",
    "        x = self.linear2(x)\n",
    "        return x"
   ]
  },
  {
   "cell_type": "code",
   "execution_count": 7,
   "id": "48017edc",
   "metadata": {},
   "outputs": [],
   "source": [
    "G = time_graph_Dense(df)\n",
    "data, adj_matrix, train_adj, test_adj = create_dataset_Dense(G)"
   ]
  },
  {
   "cell_type": "code",
   "execution_count": 21,
   "id": "201d6a95",
   "metadata": {},
   "outputs": [
    {
     "name": "stderr",
     "output_type": "stream",
     "text": [
      "100%|█████████████████████████████████████████████████████████████████████████████| 2500/2500 [00:04<00:00, 579.78it/s]\n"
     ]
    },
    {
     "data": {
      "image/png": "[encoded data removed]",
      "text/plain": [
       "<Figure size 432x288 with 1 Axes>"
      ]
     },
     "metadata": {
      "needs_background": "light"
     },
     "output_type": "display_data"
    }
   ],
   "source": [
    "from tqdm import tqdm\n",
    "\n",
    "device = torch.device('cuda' if torch.cuda.is_available() else 'cpu')\n",
    "model = RegressionModel_Dense(input_dim=3).to(device)\n",
    "optimizer = torch.optim.Adam(model.parameters(), lr=0.001)\n",
    "criterion = nn.MSELoss()\n",
    "\n",
    "train_rmse_list = []\n",
    "test_rmse_list = []\n",
    "\n",
    "for epoch in tqdm(range(2500)):\n",
    "    optimizer.zero_grad()\n",
    "    out = model(data.x[data.train_mask].to(device), train_adj).flatten()\n",
    "    loss = criterion(out.squeeze(), data.y[data.train_mask].squeeze())\n",
    "    loss.backward()\n",
    "    optimizer.step()\n",
    "    if(epoch%20==0):\n",
    "        model.eval()\n",
    "        with torch.no_grad():\n",
    "            out = model(data.x.to(device), adj_matrix).flatten()\n",
    "            test_rmse = torch.sqrt(torch.mean((out[data.test_mask].squeeze() - data.y[data.test_mask].squeeze())**2))\n",
    "\n",
    "            out_train = model(data.x[data.train_mask].to(device), train_adj).flatten()\n",
    "            train_rmse = torch.sqrt(torch.mean((out_train.squeeze() - data.y[data.train_mask].squeeze())**2))\n",
    "\n",
    "            train_rmse_list.append(train_rmse.item())\n",
    "            test_rmse_list.append(test_rmse.item())\n",
    "        model.train()\n",
    "\n",
    "plt.plot(range(len(train_rmse_list)), train_rmse_list, label='Train Loss')\n",
    "plt.plot(range(len(test_rmse_list)), test_rmse_list, label='Test Loss')\n",
    "plt.title('Train and Test Loss')\n",
    "plt.xlabel('Epochs')\n",
    "plt.ylabel('RMSE')\n",
    "plt.legend()\n",
    "plt.show()"
   ]
  },
  {
   "cell_type": "code",
   "execution_count": 22,
   "id": "2a9844d9",
   "metadata": {},
   "outputs": [
    {
     "name": "stdout",
     "output_type": "stream",
     "text": [
      "Train RMSE:  tensor(26.9374)\n",
      "Test RMSE:  tensor(36.2862)\n"
     ]
    }
   ],
   "source": [
    "model.eval()\n",
    "with torch.no_grad():\n",
    "        out = model(data.x.to(device), adj_matrix)  # Predicted PM values\n",
    "        out = out.flatten()\n",
    "        test_rmse = torch.sqrt(torch.mean((out[data.test_mask].squeeze() - data.y[data.test_mask].squeeze())**2))\n",
    "\n",
    "        out_train = model(data.x[data.train_mask].to(device), train_adj).flatten()\n",
    "        train_rmse = torch.sqrt(torch.mean((out_train.squeeze() - data.y[data.train_mask].squeeze())**2))\n",
    "        \n",
    "print('Train RMSE: ', train_rmse)\n",
    "print('Test RMSE: ', test_rmse)"
   ]
  },
  {
   "cell_type": "code",
   "execution_count": 23,
   "id": "2646ec28",
   "metadata": {
    "scrolled": true
   },
   "outputs": [
    {
     "data": {
      "image/png": "[encoded data removed]",
      "text/plain": [
       "<Figure size 432x288 with 1 Axes>"
      ]
     },
     "metadata": {
      "needs_background": "light"
     },
     "output_type": "display_data"
    }
   ],
   "source": [
    "n_train = len(train_adj)\n",
    "plt.scatter(range(len(data.y)), data.y, label = 'Actual Values', alpha = 0.7)\n",
    "plt.scatter(range(n_train), out[data.train_mask].squeeze(), label = 'Train Points', alpha = 0.7)\n",
    "plt.scatter(range(n_train, len(data.y)), out[data.test_mask].squeeze(), label = 'Predictions', alpha = 0.7)\n",
    "plt.ylabel('PM2.5')\n",
    "plt.xlabel('Timestamps')\n",
    "plt.legend();"
   ]
  },
  {
   "cell_type": "markdown",
   "id": "d3d4fb87",
   "metadata": {},
   "source": [
    "# GCNConv"
   ]
  },
  {
   "cell_type": "code",
   "execution_count": 11,
   "id": "d5836583",
   "metadata": {},
   "outputs": [],
   "source": [
    "def time_graph(df):\n",
    "    G = nx.DiGraph()\n",
    "    for i in range(len(df)):\n",
    "        time = df.iloc[i]['time']\n",
    "        pm = df.iloc[i]['PM25_Concentration']\n",
    "        weather = df.iloc[i]['weather']\n",
    "        temperature = df.iloc[i]['temperature']\n",
    "        humidity = df.iloc[i]['humidity']\n",
    "        \n",
    "        G.add_node(i, time = time, pm=pm, weather = weather, temperature = temperature, humidity = humidity)\n",
    "        \n",
    "        for j in range(i + 1, len(df)):\n",
    "            time2 = df.iloc[j]['time']\n",
    "            G.add_edge(i, j, weight = 1/(time2-time)**0.5)\n",
    "    \n",
    "    return G"
   ]
  },
  {
   "cell_type": "code",
   "execution_count": 12,
   "id": "c1231c30",
   "metadata": {},
   "outputs": [],
   "source": [
    "def create_dataset(G):\n",
    "    node_features = [(G.nodes[node]['weather'], G.nodes[node]['temperature'], G.nodes[node]['humidity']) for node in G.nodes]\n",
    "    \n",
    "    edge_weights = []\n",
    "#     undirected_edges = []\n",
    "    for edge in G.edges:\n",
    "#         undirected_edges.append(edge)\n",
    "#         undirected_edges.append((edge[1], edge[0]))  # Add the reverse edge\n",
    "        edge_weights.append(G.get_edge_data(edge[0], edge[1]))\n",
    "#         edge_weights.append(G.get_edge_data(edge[1], edge[0]))\n",
    "        \n",
    "    edge_index = torch.tensor(list(G.edges)).t().contiguous()\n",
    "    y = torch.tensor([G.nodes[node]['pm'] for node in G.nodes], dtype=torch.float).view(-1, 1)\n",
    "    train_mask = torch.zeros(y.size(0), dtype=torch.bool)\n",
    "    test_mask = torch.zeros(y.size(0), dtype=torch.bool)\n",
    "    \n",
    "#     test_mask[50:80] = True\n",
    "#     train_mask = [False if i else True for i in test_mask]\n",
    "    \n",
    "    n_train = int(0.85*len(G.nodes))\n",
    "    train_mask[:n_train] = True\n",
    "    test_mask[n_train:] = True\n",
    "    \n",
    "    data = Data(x=torch.tensor(node_features, dtype=torch.float), edge_index=edge_index, edge_weight = edge_weights, y=y,train_mask=train_mask, test_mask=test_mask)\n",
    "    return data, n_train"
   ]
  },
  {
   "cell_type": "code",
   "execution_count": 13,
   "id": "683371cb",
   "metadata": {},
   "outputs": [],
   "source": [
    "class RegressionModel(nn.Module):\n",
    "    def __init__(self, input_dim):\n",
    "        super(RegressionModel, self).__init__()\n",
    "        self.conv1 = GCNConv(input_dim, 16)\n",
    "        self.conv2 = GCNConv(16, 8)\n",
    "        self.linear1 = nn.Linear(8, 8)\n",
    "        self.linear2 = nn.Linear(8, 1)\n",
    "\n",
    "    def forward(self, x, edge_index):\n",
    "        x = self.conv1(x, edge_index)\n",
    "        x = F.relu(x)\n",
    "        x = self.conv2(x, edge_index)\n",
    "        x = self.linear1(x)\n",
    "        x = F.relu(x)\n",
    "        x = self.linear2(x)\n",
    "        return x"
   ]
  },
  {
   "cell_type": "code",
   "execution_count": 14,
   "id": "2211d8a0",
   "metadata": {},
   "outputs": [],
   "source": [
    "G = time_graph(df)\n",
    "data, n_train = create_dataset(G)"
   ]
  },
  {
   "cell_type": "code",
   "execution_count": 15,
   "id": "5c65fa10",
   "metadata": {},
   "outputs": [
    {
     "name": "stderr",
     "output_type": "stream",
     "text": [
      "100%|█████████████████████████████████████████████████████████████████████████████| 2500/2500 [00:18<00:00, 133.69it/s]\n"
     ]
    },
    {
     "data": {
      "image/png": "[encoded data removed]",
      "text/plain": [
       "<Figure size 432x288 with 1 Axes>"
      ]
     },
     "metadata": {
      "needs_background": "light"
     },
     "output_type": "display_data"
    }
   ],
   "source": [
    "from tqdm import tqdm\n",
    "\n",
    "device = torch.device('cuda' if torch.cuda.is_available() else 'cpu')\n",
    "model = RegressionModel(input_dim=3).to(device)\n",
    "optimizer = torch.optim.Adam(model.parameters(), lr=0.001)\n",
    "criterion = nn.MSELoss()\n",
    "\n",
    "train_rmse_list = []\n",
    "test_rmse_list = []\n",
    "\n",
    "for epoch in tqdm(range(2500)):\n",
    "    optimizer.zero_grad()\n",
    "    out = model(data.x.to(device), data.edge_index.to(device))\n",
    "    loss = criterion(out[data.train_mask].squeeze(), data.y[data.train_mask].squeeze())\n",
    "    loss.backward()\n",
    "    optimizer.step()\n",
    "    if(epoch%20==0):\n",
    "        model.eval()\n",
    "        with torch.no_grad():\n",
    "            out = model(data.x.to(device), data.edge_index.to(device))  # Predicted PM values\n",
    "            train_rmse = torch.sqrt(torch.mean((out[data.train_mask].squeeze() - data.y[data.train_mask].squeeze())**2))\n",
    "            test_rmse = torch.sqrt(torch.mean((out[data.test_mask].squeeze() - data.y[data.test_mask].squeeze())**2))\n",
    "            train_rmse_list.append(train_rmse.item())\n",
    "            test_rmse_list.append(test_rmse.item())\n",
    "        model.train()\n",
    "\n",
    "plt.plot(range(len(train_rmse_list)), train_rmse_list, label='Train Loss')\n",
    "plt.plot(range(len(test_rmse_list)), test_rmse_list, label='Test Loss')\n",
    "\n",
    "plt.legend()\n",
    "plt.show()"
   ]
  },
  {
   "cell_type": "code",
   "execution_count": 16,
   "id": "06c7d049",
   "metadata": {},
   "outputs": [
    {
     "name": "stdout",
     "output_type": "stream",
     "text": [
      "tensor(38.3250)\n",
      "tensor(14.5298)\n"
     ]
    }
   ],
   "source": [
    "model.eval()\n",
    "with torch.no_grad():\n",
    "    out = model(data.x.to(device), data.edge_index.to(device))  # Predicted PM values\n",
    "    train_rmse = torch.sqrt(torch.mean((out[data.train_mask].squeeze() - data.y[data.train_mask].squeeze())**2))\n",
    "    test_rmse = torch.sqrt(torch.mean((out[data.test_mask].squeeze() - data.y[data.test_mask].squeeze())**2))\n",
    "    print(train_rmse)\n",
    "    print(test_rmse)"
   ]
  },
  {
   "cell_type": "code",
   "execution_count": 17,
   "id": "b36e8878",
   "metadata": {},
   "outputs": [
    {
     "data": {
      "image/png": "[encoded data removed]",
      "text/plain": [
       "<Figure size 432x288 with 1 Axes>"
      ]
     },
     "metadata": {
      "needs_background": "light"
     },
     "output_type": "display_data"
    }
   ],
   "source": [
    "plt.scatter(range(len(data.y)), data.y, label = 'Actual Values', alpha = 0.7)\n",
    "plt.scatter(range(n_train), out[data.train_mask].squeeze(), label = 'Train Points', alpha = 0.7)\n",
    "plt.scatter(range(n_train, len(data.y)), out[data.test_mask].squeeze(), label = 'Predictions', alpha = 0.7)\n",
    "plt.ylabel('PM2.5')\n",
    "plt.xlabel('Timestamps')\n",
    "plt.legend();"
   ]
  }
 ],
 "metadata": {
  "kernelspec": {
   "display_name": "Python 3 (ipykernel)",
   "language": "python",
   "name": "python3"
  },
  "language_info": {
   "codemirror_mode": {
    "name": "ipython",
    "version": 3
   },
   "file_extension": ".py",
   "mimetype": "text/x-python",
   "name": "python",
   "nbconvert_exporter": "python",
   "pygments_lexer": "ipython3",
   "version": "3.9.7"
  }
 },
 "nbformat": 4,
 "nbformat_minor": 5
}
